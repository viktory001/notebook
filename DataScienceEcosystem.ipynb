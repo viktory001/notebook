{
 "cells": [
  {
   "cell_type": "markdown",
   "id": "a74d36af-9346-4566-ad25-3cc30d6264b4",
   "metadata": {
    "tags": []
   },
   "source": [
    "## Data Science tools and Ecosystem"
   ]
  },
  {
   "cell_type": "markdown",
   "id": "bec4aae2-70bf-4ce0-8202-0396c6c19a70",
   "metadata": {
    "tags": []
   },
   "source": [
    "### In this notebook, Data Science Tools and Ecosystem are summarized."
   ]
  },
  {
   "cell_type": "markdown",
   "id": "dc02b9dd-4b3c-4212-b74b-40e2ada94397",
   "metadata": {
    "tags": []
   },
   "source": [
    "**Objectives**\n",
    "-  List popular languages for Data Science\n",
    "-  List commonly used libraries for Data Science\n",
    "-  Development Environment Opensource Tools used in Data Science\n",
    " -  Arithmetic expressions in Python"
   ]
  },
  {
   "cell_type": "markdown",
   "id": "65570c97-89ca-4da9-84a2-625614cf734a",
   "metadata": {
    "tags": []
   },
   "source": [
    " ### Some of the popular languages that Data Scientists use are:\n",
    " \n",
    " \n",
    " \n",
    " \n",
    " \n",
    " \n",
    " \n",
    " \n",
    " \n",
    " \n",
    " "
   ]
  },
  {
   "cell_type": "markdown",
   "id": "d4686e5f-b176-42bf-a9d4-5c368294279c",
   "metadata": {},
   "source": [
    "1. Python\n",
    "2. R\n",
    "3. SQL\n",
    "4. Java\n",
    "5. Scala"
   ]
  },
  {
   "cell_type": "markdown",
   "id": "99d59a29-e06d-4aab-83da-d5784fc2e52a",
   "metadata": {
    "tags": []
   },
   "source": [
    "### Some of the commonly used libraries used by Data Scientists include:`"
   ]
  },
  {
   "cell_type": "markdown",
   "id": "c18f1fe3-c345-48d9-ac17-dc52745523f3",
   "metadata": {},
   "source": [
    "1. Python libraries\n",
    "2. scala Libraries\n",
    "3. R libraries"
   ]
  },
  {
   "cell_type": "markdown",
   "id": "cdba2342-5d52-405c-bbda-be0827a0e984",
   "metadata": {},
   "source": [
    "### Development Environment Opensource Tools used in Data Science:"
   ]
  },
  {
   "cell_type": "markdown",
   "id": "eb91cad7-7b12-43dc-92d4-4a29eaeb5f86",
   "metadata": {},
   "source": [
    "|Data Sicence Tools|\n",
    "|:-----------------:|\n",
    "| Jupyter Lab |\n",
    "| RStudio |\n",
    "| Apache Spark |\n",
    "\n",
    "\n",
    "\n"
   ]
  },
  {
   "cell_type": "markdown",
   "id": "fac99e78-b2c6-46e8-9d7d-e75b21e815a5",
   "metadata": {},
   "source": [
    "### Below are a few examples of evaluating arithmetic expressions in Python"
   ]
  },
  {
   "cell_type": "code",
   "execution_count": 9,
   "id": "d9d87cab-b279-4add-86a4-3a411bc226e7",
   "metadata": {
    "tags": []
   },
   "outputs": [
    {
     "data": {
      "text/plain": [
       "17"
      ]
     },
     "execution_count": 9,
     "metadata": {},
     "output_type": "execute_result"
    }
   ],
   "source": [
    "### This a simple arithmetic expression to mutiply then add integers.\n",
    "(3*4)+5"
   ]
  },
  {
   "cell_type": "code",
   "execution_count": 11,
   "id": "e995cdf3-accc-47eb-be89-df32e947071d",
   "metadata": {
    "tags": []
   },
   "outputs": [
    {
     "name": "stdout",
     "output_type": "stream",
     "text": [
      "3.3333333333333335\n"
     ]
    }
   ],
   "source": [
    "# This will convert 200 minutes to hours by diving by 60\n",
    "minutes= 200\n",
    "hours= minutes/60\n",
    "print(hours)"
   ]
  },
  {
   "cell_type": "markdown",
   "id": "a36d1ef4-8457-451d-95cd-be15d1103c93",
   "metadata": {},
   "source": [
    "## Author\n",
    "Chukwu C. Victory."
   ]
  },
  {
   "cell_type": "code",
   "execution_count": null,
   "id": "a26feed2-9202-4d05-a5ba-71e886f8aca1",
   "metadata": {},
   "outputs": [],
   "source": []
  }
 ],
 "metadata": {
  "kernelspec": {
   "display_name": "Python 3 (ipykernel)",
   "language": "python",
   "name": "python3"
  },
  "language_info": {
   "codemirror_mode": {
    "name": "ipython",
    "version": 3
   },
   "file_extension": ".py",
   "mimetype": "text/x-python",
   "name": "python",
   "nbconvert_exporter": "python",
   "pygments_lexer": "ipython3",
   "version": "3.11.5"
  }
 },
 "nbformat": 4,
 "nbformat_minor": 5
}
